{
 "cells": [
  {
   "cell_type": "code",
   "execution_count": 1,
   "id": "7ffeefbc",
   "metadata": {},
   "outputs": [
    {
     "name": "stdout",
     "output_type": "stream",
     "text": [
      "Python Version:  3.9.13\n",
      "TensorFlow Version:  2.12.0\n",
      "Keras Version:  2.12.0\n"
     ]
    }
   ],
   "source": [
    "from platform import python_version\n",
    "import os\n",
    "import shutil\n",
    "import numpy as np\n",
    "import pandas as pd\n",
    "import PIL.Image\n",
    "from matplotlib import pyplot as plt\n",
    "from matplotlib.font_manager import findfont, FontProperties\n",
    "\n",
    "from matplotlib.font_manager import FontProperties\n",
    "\n",
    "\n",
    "path = 'D:/print_letter'\n",
    "\n",
    "\n",
    "import tensorflow as tf\n",
    "from tensorflow.keras.preprocessing.image import load_img, ImageDataGenerator\n",
    "from tensorflow.keras.models import Sequential, load_model\n",
    "from tensorflow.keras.layers import Conv2D, MaxPooling2D, Flatten, Dense, Dropout  \n",
    "from tensorflow.keras.optimizers import *\n",
    "\n",
    "print( 'Python Version: ', python_version() )\n",
    "print( 'TensorFlow Version: ', tf.__version__ )\n",
    "print( 'Keras Version: ', tf.keras.__version__ ) "
   ]
  },
  {
   "cell_type": "code",
   "execution_count": 2,
   "id": "0e9b0d94",
   "metadata": {},
   "outputs": [],
   "source": [
    "OutputFolder = path"
   ]
  },
  {
   "cell_type": "code",
   "execution_count": 3,
   "id": "13b58a42",
   "metadata": {},
   "outputs": [],
   "source": [
    "if not os.path.exists(OutputFolder):\n",
    "    os.mkdir(OutputFolder)\n",
    "    print( f'Create the new \"{OutputFolder}\" folder' )\n",
    "\n",
    "os.chdir(OutputFolder)"
   ]
  },
  {
   "cell_type": "code",
   "execution_count": 5,
   "id": "ff266300",
   "metadata": {},
   "outputs": [
    {
     "name": "stdout",
     "output_type": "stream",
     "text": [
      "총: 1791 단어(폴더)/합계: 37611\n",
      "평균 개수: 21.0\n"
     ]
    }
   ],
   "source": [
    "a=0\n",
    "b=0\n",
    "\n",
    "for item in os.listdir(OutputFolder):\n",
    "    a += 1\n",
    "    for i in os.listdir(OutputFolder + '/' + item):\n",
    "        b +=1\n",
    "\n",
    "\n",
    "print('총: ' + str(a) + ' 단어(폴더)/합계: ' + str(b) )\n",
    "print('평균 개수: ' + str(b/a))"
   ]
  },
  {
   "cell_type": "code",
   "execution_count": 7,
   "id": "bdeebeea",
   "metadata": {},
   "outputs": [
    {
     "name": "stdout",
     "output_type": "stream",
     "text": [
      "Current working directory: C:\\Users\\user\\project\\test2\\print_letter\n"
     ]
    }
   ],
   "source": [
    "TraningDataPath =  path"
   ]
  },
  {
   "cell_type": "code",
   "execution_count": 11,
   "id": "68b4d44a",
   "metadata": {},
   "outputs": [],
   "source": [
    "Num_Classes = len(SelectedWords)\n",
    "Image_Size = ( 50, 50 )\n",
    "Epochs = 50\n",
    "Batch_Size = 8"
   ]
  },
  {
   "cell_type": "code",
   "execution_count": 12,
   "id": "8a498d84",
   "metadata": {},
   "outputs": [],
   "source": [
    "Train_Data_Genetor = ImageDataGenerator( rescale = 1./255, validation_split = 0.2,\n",
    "                                         width_shift_range = 0.05,   \n",
    "                                         height_shift_range = 0.05,\n",
    "                                         zoom_range = 0.1,  \n",
    "                                         horizontal_flip = False )"
   ]
  },
  {
   "cell_type": "code",
   "execution_count": 13,
   "id": "294bd72d",
   "metadata": {},
   "outputs": [
    {
     "name": "stdout",
     "output_type": "stream",
     "text": [
      "Found 697 images belonging to 41 classes.\n"
     ]
    }
   ],
   "source": [
    "Train_Generator = Train_Data_Genetor.flow_from_directory( TraningDataPath ,\n",
    "                                                          target_size = Image_Size,\n",
    "                                                          batch_size = Batch_Size,\n",
    "                                                          class_mode = 'categorical',\n",
    "                                                          shuffle = True, \n",
    "                                                          subset = 'training' )"
   ]
  },
  {
   "cell_type": "code",
   "execution_count": 16,
   "id": "6444d8f1",
   "metadata": {},
   "outputs": [],
   "source": [
    "Val_Data_Genetor = ImageDataGenerator( rescale=1./255, validation_split = 0.2 )"
   ]
  },
  {
   "cell_type": "code",
   "execution_count": 17,
   "id": "0bb47643",
   "metadata": {},
   "outputs": [
    {
     "name": "stdout",
     "output_type": "stream",
     "text": [
      "Found 164 images belonging to 41 classes.\n"
     ]
    }
   ],
   "source": [
    "Val_Generator = Train_Data_Genetor.flow_from_directory( TraningDataPath ,\n",
    "                                                        target_size = Image_Size,\n",
    "                                                        batch_size = Batch_Size,\n",
    "                                                        class_mode = 'categorical',\n",
    "                                                        shuffle = True, \n",
    "                                                        subset = 'validation' )"
   ]
  },
  {
   "cell_type": "code",
   "execution_count": 18,
   "id": "c73608fb",
   "metadata": {},
   "outputs": [
    {
     "name": "stdout",
     "output_type": "stream",
     "text": [
      "Model: \"CNN_Model\"\n",
      "_________________________________________________________________\n",
      " Layer (type)                Output Shape              Param #   \n",
      "=================================================================\n",
      " Convolution (Conv2D)        (None, 50, 50, 5)         65        \n",
      "                                                                 \n",
      " Pooling (MaxPooling2D)      (None, 25, 25, 5)         0         \n",
      "                                                                 \n",
      " Flatten (Flatten)           (None, 3125)              0         \n",
      "                                                                 \n",
      " Dropout_1 (Dropout)         (None, 3125)              0         \n",
      "                                                                 \n",
      " Dense (Dense)               (None, 512)               1600512   \n",
      "                                                                 \n",
      " Dropout_2 (Dropout)         (None, 512)               0         \n",
      "                                                                 \n",
      " Softmax (Dense)             (None, 41)                21033     \n",
      "                                                                 \n",
      "=================================================================\n",
      "Total params: 1,621,610\n",
      "Trainable params: 1,621,610\n",
      "Non-trainable params: 0\n",
      "_________________________________________________________________\n"
     ]
    }
   ],
   "source": [
    "CNN = Sequential( name = 'CNN_Model' )\n",
    "CNN.add( Conv2D( 5, kernel_size = (2,2), padding = 'same', \n",
    "                 input_shape = (Image_Size[0],Image_Size[1],3), name = 'Convolution' ) )\n",
    "CNN.add( MaxPooling2D( pool_size = (2,2), name = 'Pooling' ) )\n",
    "CNN.add( Flatten( name = 'Flatten' ) )\n",
    "CNN.add( Dropout( 0.5, name = 'Dropout_1' ) )\n",
    "CNN.add( Dense( 512, activation = 'relu', name = 'Dense' ) )\n",
    "CNN.add( Dropout( 0.5, name = 'Dropout_2' ) )\n",
    "CNN.add( Dense( Num_Classes, activation = 'softmax', name = 'Softmax' ) )\n",
    "CNN.summary()"
   ]
  },
  {
   "cell_type": "code",
   "execution_count": 19,
   "id": "8f6332f7",
   "metadata": {},
   "outputs": [],
   "source": [
    "CNN.compile( optimizer = Adam(),\n",
    "             loss = 'categorical_crossentropy', \n",
    "             metrics = ['accuracy'] )"
   ]
  },
  {
   "cell_type": "code",
   "execution_count": 20,
   "id": "b2823d4a",
   "metadata": {},
   "outputs": [
    {
     "name": "stdout",
     "output_type": "stream",
     "text": [
      "Epoch 1/50\n",
      "87/87 [==============================] - 3s 28ms/step - loss: 4.0623 - accuracy: 0.0218 - val_loss: 3.6736 - val_accuracy: 0.0375\n",
      "Epoch 2/50\n",
      "87/87 [==============================] - 1s 12ms/step - loss: 3.6858 - accuracy: 0.0392 - val_loss: 3.5884 - val_accuracy: 0.1000\n",
      "Epoch 3/50\n",
      "87/87 [==============================] - 1s 12ms/step - loss: 3.5627 - accuracy: 0.0740 - val_loss: 3.3669 - val_accuracy: 0.1937\n",
      "Epoch 4/50\n",
      "87/87 [==============================] - 1s 12ms/step - loss: 3.2883 - accuracy: 0.1335 - val_loss: 2.9888 - val_accuracy: 0.2375\n",
      "Epoch 5/50\n",
      "87/87 [==============================] - 1s 13ms/step - loss: 3.0282 - accuracy: 0.2148 - val_loss: 2.7008 - val_accuracy: 0.3438\n",
      "Epoch 6/50\n",
      "87/87 [==============================] - 1s 12ms/step - loss: 2.7341 - accuracy: 0.2743 - val_loss: 2.3510 - val_accuracy: 0.4062\n",
      "Epoch 7/50\n",
      "87/87 [==============================] - 1s 13ms/step - loss: 2.4147 - accuracy: 0.3425 - val_loss: 2.0857 - val_accuracy: 0.4750\n",
      "Epoch 8/50\n",
      "87/87 [==============================] - 1s 12ms/step - loss: 2.1783 - accuracy: 0.4224 - val_loss: 1.8432 - val_accuracy: 0.5625\n",
      "Epoch 9/50\n",
      "87/87 [==============================] - 1s 12ms/step - loss: 1.9928 - accuracy: 0.4543 - val_loss: 1.5141 - val_accuracy: 0.6125\n",
      "Epoch 10/50\n",
      "87/87 [==============================] - 1s 12ms/step - loss: 1.8861 - accuracy: 0.4978 - val_loss: 1.4323 - val_accuracy: 0.6687\n",
      "Epoch 11/50\n",
      "87/87 [==============================] - 1s 12ms/step - loss: 1.7698 - accuracy: 0.5051 - val_loss: 1.5498 - val_accuracy: 0.6062\n",
      "Epoch 12/50\n",
      "87/87 [==============================] - 1s 12ms/step - loss: 1.6956 - accuracy: 0.5109 - val_loss: 1.2508 - val_accuracy: 0.7125\n",
      "Epoch 13/50\n",
      "87/87 [==============================] - 1s 12ms/step - loss: 1.5696 - accuracy: 0.5443 - val_loss: 1.0333 - val_accuracy: 0.7500\n",
      "Epoch 14/50\n",
      "87/87 [==============================] - 1s 12ms/step - loss: 1.5271 - accuracy: 0.5704 - val_loss: 1.0854 - val_accuracy: 0.7312\n",
      "Epoch 15/50\n",
      "87/87 [==============================] - 1s 12ms/step - loss: 1.4023 - accuracy: 0.6110 - val_loss: 0.9386 - val_accuracy: 0.7688\n",
      "Epoch 16/50\n",
      "87/87 [==============================] - 1s 12ms/step - loss: 1.3601 - accuracy: 0.5994 - val_loss: 1.0392 - val_accuracy: 0.7563\n",
      "Epoch 17/50\n",
      "87/87 [==============================] - 1s 13ms/step - loss: 1.3313 - accuracy: 0.6270 - val_loss: 1.0386 - val_accuracy: 0.7625\n",
      "Epoch 18/50\n",
      "87/87 [==============================] - 1s 13ms/step - loss: 1.3444 - accuracy: 0.6154 - val_loss: 0.8512 - val_accuracy: 0.8188\n",
      "Epoch 19/50\n",
      "87/87 [==============================] - 1s 13ms/step - loss: 1.2632 - accuracy: 0.6343 - val_loss: 0.7056 - val_accuracy: 0.8125\n",
      "Epoch 20/50\n",
      "87/87 [==============================] - 1s 13ms/step - loss: 1.1750 - accuracy: 0.6647 - val_loss: 0.7089 - val_accuracy: 0.8125\n",
      "Epoch 21/50\n",
      "87/87 [==============================] - 1s 12ms/step - loss: 1.1177 - accuracy: 0.6676 - val_loss: 0.6821 - val_accuracy: 0.8188\n",
      "Epoch 22/50\n",
      "87/87 [==============================] - 1s 12ms/step - loss: 1.1094 - accuracy: 0.6821 - val_loss: 0.5670 - val_accuracy: 0.8875\n",
      "Epoch 23/50\n",
      "87/87 [==============================] - 1s 13ms/step - loss: 1.0470 - accuracy: 0.6938 - val_loss: 0.5611 - val_accuracy: 0.8813\n",
      "Epoch 24/50\n",
      "87/87 [==============================] - 1s 12ms/step - loss: 1.0772 - accuracy: 0.6778 - val_loss: 0.5328 - val_accuracy: 0.8625\n",
      "Epoch 25/50\n",
      "87/87 [==============================] - 1s 12ms/step - loss: 1.0785 - accuracy: 0.6662 - val_loss: 0.5343 - val_accuracy: 0.8687\n",
      "Epoch 26/50\n",
      "87/87 [==============================] - 1s 12ms/step - loss: 0.9608 - accuracy: 0.7417 - val_loss: 0.4954 - val_accuracy: 0.8813\n",
      "Epoch 27/50\n",
      "87/87 [==============================] - 1s 12ms/step - loss: 0.9421 - accuracy: 0.7083 - val_loss: 0.4715 - val_accuracy: 0.8375\n",
      "Epoch 28/50\n",
      "87/87 [==============================] - 1s 12ms/step - loss: 0.9954 - accuracy: 0.6952 - val_loss: 0.6312 - val_accuracy: 0.8375\n",
      "Epoch 29/50\n",
      "87/87 [==============================] - 1s 12ms/step - loss: 0.8118 - accuracy: 0.7866 - val_loss: 0.4308 - val_accuracy: 0.9062\n",
      "Epoch 30/50\n",
      "87/87 [==============================] - 1s 12ms/step - loss: 0.9079 - accuracy: 0.7170 - val_loss: 0.4330 - val_accuracy: 0.8875\n",
      "Epoch 31/50\n",
      "87/87 [==============================] - 1s 12ms/step - loss: 0.9465 - accuracy: 0.7054 - val_loss: 0.4582 - val_accuracy: 0.8875\n",
      "Epoch 32/50\n",
      "87/87 [==============================] - 1s 12ms/step - loss: 0.7355 - accuracy: 0.7866 - val_loss: 0.4918 - val_accuracy: 0.8500\n",
      "Epoch 33/50\n",
      "87/87 [==============================] - 1s 12ms/step - loss: 0.9232 - accuracy: 0.7242 - val_loss: 0.3858 - val_accuracy: 0.9062\n",
      "Epoch 34/50\n",
      "87/87 [==============================] - 1s 12ms/step - loss: 0.8744 - accuracy: 0.7286 - val_loss: 0.4106 - val_accuracy: 0.8813\n",
      "Epoch 35/50\n",
      "87/87 [==============================] - 1s 12ms/step - loss: 0.7724 - accuracy: 0.7779 - val_loss: 0.3590 - val_accuracy: 0.8875\n",
      "Epoch 36/50\n",
      "87/87 [==============================] - 1s 13ms/step - loss: 0.7805 - accuracy: 0.7620 - val_loss: 0.3464 - val_accuracy: 0.9062\n",
      "Epoch 37/50\n",
      "87/87 [==============================] - 1s 13ms/step - loss: 0.7671 - accuracy: 0.7692 - val_loss: 0.2964 - val_accuracy: 0.9187\n",
      "Epoch 38/50\n",
      "87/87 [==============================] - 1s 13ms/step - loss: 0.7777 - accuracy: 0.7750 - val_loss: 0.2516 - val_accuracy: 0.9187\n",
      "Epoch 39/50\n",
      "87/87 [==============================] - 1s 13ms/step - loss: 0.6816 - accuracy: 0.7997 - val_loss: 0.4099 - val_accuracy: 0.9000\n",
      "Epoch 40/50\n",
      "87/87 [==============================] - 1s 13ms/step - loss: 0.7052 - accuracy: 0.7983 - val_loss: 0.4294 - val_accuracy: 0.9062\n",
      "Epoch 41/50\n",
      "87/87 [==============================] - 1s 12ms/step - loss: 0.7410 - accuracy: 0.7721 - val_loss: 0.3237 - val_accuracy: 0.9062\n",
      "Epoch 42/50\n",
      "87/87 [==============================] - 1s 13ms/step - loss: 0.6685 - accuracy: 0.8099 - val_loss: 0.2631 - val_accuracy: 0.9187\n",
      "Epoch 43/50\n",
      "87/87 [==============================] - 1s 13ms/step - loss: 0.6070 - accuracy: 0.8055 - val_loss: 0.3002 - val_accuracy: 0.9312\n",
      "Epoch 44/50\n",
      "87/87 [==============================] - 1s 13ms/step - loss: 0.7014 - accuracy: 0.7823 - val_loss: 0.4797 - val_accuracy: 0.8813\n",
      "Epoch 45/50\n",
      "87/87 [==============================] - 1s 13ms/step - loss: 0.6716 - accuracy: 0.7896 - val_loss: 0.4101 - val_accuracy: 0.8625\n",
      "Epoch 46/50\n",
      "87/87 [==============================] - 1s 13ms/step - loss: 0.6718 - accuracy: 0.7910 - val_loss: 0.3826 - val_accuracy: 0.9062\n",
      "Epoch 47/50\n",
      "87/87 [==============================] - 1s 13ms/step - loss: 0.6689 - accuracy: 0.8026 - val_loss: 0.2577 - val_accuracy: 0.9438\n",
      "Epoch 48/50\n",
      "87/87 [==============================] - 1s 13ms/step - loss: 0.6058 - accuracy: 0.8026 - val_loss: 0.4199 - val_accuracy: 0.9187\n",
      "Epoch 49/50\n",
      "87/87 [==============================] - 1s 13ms/step - loss: 0.6404 - accuracy: 0.7925 - val_loss: 0.3364 - val_accuracy: 0.9187\n",
      "Epoch 50/50\n",
      "87/87 [==============================] - 1s 13ms/step - loss: 0.6438 - accuracy: 0.7997 - val_loss: 0.2515 - val_accuracy: 0.9500\n"
     ]
    }
   ],
   "source": [
    "History = CNN.fit( Train_Generator,\n",
    "                   steps_per_epoch = Train_Generator.samples//Batch_Size,\n",
    "                   validation_data = Val_Generator,\n",
    "                   validation_steps = Val_Generator.samples//Batch_Size,\n",
    "                   epochs = Epochs )"
   ]
  },
  {
   "cell_type": "code",
   "execution_count": 22,
   "id": "6a22acaf",
   "metadata": {},
   "outputs": [
    {
     "data": {
      "image/png": "[encoded data removed]",
      "text/plain": [
       "<Figure size 1400x400 with 2 Axes>"
      ]
     },
     "metadata": {},
     "output_type": "display_data"
    }
   ],
   "source": [
    "Train_Accuracy = History.history['accuracy']\n",
    "Val_Accuracy = History.history['val_accuracy']\n",
    "Train_Loss = History.history['loss']\n",
    "Val_Loss = History.history['val_loss']\n",
    "epochs_range = range(Epochs)\n",
    "\n",
    "plt.figure( figsize=(14,4) )\n",
    "plt.subplot( 1,2,1 )\n",
    "plt.plot( range( len(Train_Accuracy) ), Train_Accuracy, label='Train' ) \n",
    "plt.plot( range( len(Val_Accuracy) ), Val_Accuracy, label='Validation' ) \n",
    "plt.legend( loc='lower right' )\n",
    "plt.title( 'Accuracy' )\n",
    "\n",
    "plt.subplot( 1,2,2 )\n",
    "plt.plot( range( len(Train_Loss) ), Train_Loss, label='Train' )\n",
    "plt.plot( range( len(Val_Loss) ), Val_Loss, label='Validation' )\n",
    "plt.legend( loc='upper right' )\n",
    "plt.title( 'Loss')\n",
    "\n",
    "plt.show()"
   ]
  },
  {
   "cell_type": "code",
   "execution_count": 23,
   "id": "81430a4c",
   "metadata": {},
   "outputs": [],
   "source": [
    "model_path = 'C:/Users/user/project/chinese'"
   ]
  },
  {
   "cell_type": "code",
   "execution_count": 24,
   "id": "0e42ccd3",
   "metadata": {},
   "outputs": [],
   "source": [
    "os.chdir( model_path )\n",
    "CNN.save( 'CNN_Model.h5' )"
   ]
  },
  {
   "cell_type": "code",
   "execution_count": null,
   "id": "ee8b17cb",
   "metadata": {},
   "outputs": [],
   "source": []
  },
  {
   "cell_type": "code",
   "execution_count": null,
   "id": "04525534",
   "metadata": {},
   "outputs": [],
   "source": []
  }
 ],
 "metadata": {
  "kernelspec": {
   "display_name": "Python 3 (ipykernel)",
   "language": "python",
   "name": "python3"
  },
  "language_info": {
   "codemirror_mode": {
    "name": "ipython",
    "version": 3
   },
   "file_extension": ".py",
   "mimetype": "text/x-python",
   "name": "python",
   "nbconvert_exporter": "python",
   "pygments_lexer": "ipython3",
   "version": "3.9.13"
  }
 },
 "nbformat": 4,
 "nbformat_minor": 5
}
