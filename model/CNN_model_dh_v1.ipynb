{
 "cells": [
  {
   "cell_type": "code",
   "execution_count": 27,
   "id": "7ffeefbc",
   "metadata": {
    "scrolled": true
   },
   "outputs": [
    {
     "name": "stdout",
     "output_type": "stream",
     "text": [
      "Python Version:  3.9.13\n",
      "TensorFlow Version:  2.9.0\n",
      "Keras Version:  2.9.0\n"
     ]
    }
   ],
   "source": [
    "from platform import python_version\n",
    "import os\n",
    "import shutil\n",
    "import numpy as np\n",
    "import pandas as pd\n",
    "import PIL.Image\n",
    "from tensorflow.keras.callbacks import EarlyStopping, ModelCheckpoint\n",
    "from matplotlib import pyplot as plt\n",
    "from matplotlib.font_manager import findfont, FontProperties\n",
    "\n",
    "\n",
    "\n",
    "from matplotlib.font_manager import FontProperties\n",
    "\n",
    "import keras\n",
    "\n",
    "import tensorflow as tf\n",
    "from tensorflow.keras.preprocessing.image import load_img, ImageDataGenerator\n",
    "from tensorflow.keras.models import Sequential, load_model\n",
    "from tensorflow.keras.layers import Conv2D, MaxPooling2D, Flatten, Dense, Dropout, GlobalAveragePooling2D  \n",
    "from tensorflow.keras.optimizers import *\n",
    "from tensorflow.keras.layers import BatchNormalization\n",
    "from tensorflow.keras.optimizers import Adam\n",
    "\n",
    "print( 'Python Version: ', python_version() )\n",
    "print( 'TensorFlow Version: ', tf.__version__ )\n",
    "print( 'Keras Version: ', tf.keras.__version__ ) "
   ]
  },
  {
   "cell_type": "code",
   "execution_count": 31,
   "id": "0e9b0d94",
   "metadata": {},
   "outputs": [],
   "source": [
    "path = 'D:/download/최종dataset'"
   ]
  },
  {
   "cell_type": "code",
   "execution_count": 32,
   "id": "ff266300",
   "metadata": {},
   "outputs": [
    {
     "name": "stdout",
     "output_type": "stream",
     "text": [
      "총: 1817 단어(폴더)/합계: 181700\n",
      "평균 개수: 100.0\n"
     ]
    }
   ],
   "source": [
    "\n",
    "a=0\n",
    "b=0\n",
    "\n",
    "for item in os.listdir(inputFolder):\n",
    "    a += 1\n",
    "    for i in os.listdir(inputFolder + '/' + item):\n",
    "        b +=1\n",
    "\n",
    "\n",
    "print('총: ' + str(a) + ' 단어(폴더)/합계: ' + str(b) )\n",
    "print('평균 개수: ' + str(b/a))\n"
   ]
  },
  {
   "cell_type": "code",
   "execution_count": 33,
   "id": "68b4d44a",
   "metadata": {},
   "outputs": [],
   "source": [
    "Num_Classes = 1817\n",
    "#len(os.listdir())\n",
    "Image_Size = ( 120, 120 )\n",
    "Epochs = 150\n",
    "Batch_Size = 16\n",
    "SplitRatio = 0.2"
   ]
  },
  {
   "cell_type": "code",
   "execution_count": 36,
   "id": "8a498d84",
   "metadata": {},
   "outputs": [],
   "source": [
    "Train_Data_Genetor = ImageDataGenerator(\n",
    "    rescale=1./255,                 # 이미지 픽셀 0~1로 조정\n",
    "    validation_split=SplitRatio,    # 훈련데이터 0.8 / 검증데이터 0.2\n",
    "    rotation_range=10,              # 이미지를 10도 범위 내에서 회전\n",
    "    width_shift_range=0.1,          # (가로의 0.1 범위 내에서) 가로 방향으로 무작위 이동\n",
    "    height_shift_range=0.1,         # (세로의 0.1 범위 내에서) 세로 방향으로 무작위 이동\n",
    "    zoom_range=0.1,                 # 0.1배 무작위 확대/축소\n",
    "    horizontal_flip=False           # 수평뒤집기 x\n",
    ")"
   ]
  },
  {
   "cell_type": "code",
   "execution_count": 37,
   "id": "294bd72d",
   "metadata": {},
   "outputs": [
    {
     "name": "stdout",
     "output_type": "stream",
     "text": [
      "Found 145360 images belonging to 1817 classes.\n"
     ]
    }
   ],
   "source": [
    "Train_Generator = Train_Data_Genetor.flow_from_directory( path ,\n",
    "                                                          target_size = Image_Size,\n",
    "                                                          batch_size = Batch_Size,\n",
    "                                                          class_mode = 'categorical',\n",
    "                                                          shuffle = True, \n",
    "                                                          subset = 'training' )"
   ]
  },
  {
   "cell_type": "code",
   "execution_count": 38,
   "id": "0bb47643",
   "metadata": {},
   "outputs": [
    {
     "name": "stdout",
     "output_type": "stream",
     "text": [
      "Found 36340 images belonging to 1817 classes.\n"
     ]
    }
   ],
   "source": [
    "Val_Generator = Train_Data_Genetor.flow_from_directory( path ,\n",
    "                                                        target_size = Image_Size,\n",
    "                                                        batch_size = Batch_Size,\n",
    "                                                        class_mode = 'categorical',\n",
    "                                                        shuffle = True, \n",
    "                                                        subset = 'validation' )"
   ]
  },
  {
   "cell_type": "code",
   "execution_count": 43,
   "id": "4b720bb0",
   "metadata": {},
   "outputs": [],
   "source": [
    "CNN = Sequential()\n",
    "CNN.add(Conv2D(32, kernel_size=(3,3), activation='relu', padding='same', input_shape=(150,150,3), kernel_initializer='he_normal'))\n",
    "CNN.add(BatchNormalization())\n",
    "CNN.add(Conv2D(32, kernel_size=(3,3), padding='same', activation='relu', kernel_initializer='he_normal'))\n",
    "CNN.add(BatchNormalization())\n",
    "\n",
    "CNN.add(MaxPooling2D(3,3))\n",
    "\n",
    "CNN.add(Conv2D(64, kernel_size=(3,3), padding='same', activation='relu', kernel_initializer='he_normal'))\n",
    "CNN.add(BatchNormalization())\n",
    "CNN.add(Conv2D(64, kernel_size=(3,3), padding='same', activation='relu', kernel_initializer='he_normal'))\n",
    "CNN.add(BatchNormalization())\n",
    "CNN.add(Conv2D(64, kernel_size=(3,3), padding='same', activation='relu', kernel_initializer='he_normal'))\n",
    "CNN.add(BatchNormalization())\n",
    "\n",
    "CNN.add(MaxPooling2D(3,3))\n",
    "\n",
    "CNN.add(Conv2D(128, kernel_size=(3,3), padding='same', activation='relu', kernel_initializer='he_normal'))\n",
    "CNN.add(BatchNormalization())\n",
    "CNN.add(Conv2D(128, kernel_size=(3,3), padding='same', activation='relu', kernel_initializer='he_normal'))\n",
    "CNN.add(BatchNormalization())\n",
    "CNN.add(Conv2D(128, kernel_size=(3,3), padding='same', activation='relu', kernel_initializer='he_normal'))\n",
    "CNN.add(BatchNormalization())\n",
    "\n",
    "CNN.add(MaxPooling2D(3,3))\n",
    "\n",
    "CNN.add(Conv2D(256, kernel_size=(3,3), padding='same', activation='relu', kernel_initializer='he_normal'))\n",
    "CNN.add(BatchNormalization())\n",
    "CNN.add(Conv2D(256, kernel_size=(3,3), padding='same', activation='relu', kernel_initializer='he_normal'))\n",
    "CNN.add(BatchNormalization())\n",
    "CNN.add(Conv2D(256, kernel_size=(3,3), padding='same', activation='relu', kernel_initializer='he_normal'))\n",
    "CNN.add(BatchNormalization())\n",
    "\n",
    "CNN.add(MaxPooling2D(3,3))\n",
    "\n",
    "CNN.add(GlobalAveragePooling2D())\n",
    "CNN.add( Dense( Num_Classes, activation = 'softmax', name = 'Softmax' ) )"
   ]
  },
  {
   "cell_type": "code",
   "execution_count": 44,
   "id": "05159e96",
   "metadata": {},
   "outputs": [
    {
     "name": "stdout",
     "output_type": "stream",
     "text": [
      "Model: \"sequential_1\"\n",
      "_________________________________________________________________\n",
      " Layer (type)                Output Shape              Param #   \n",
      "=================================================================\n",
      " conv2d_8 (Conv2D)           (None, 150, 150, 32)      896       \n",
      "                                                                 \n",
      " batch_normalization_8 (Batc  (None, 150, 150, 32)     128       \n",
      " hNormalization)                                                 \n",
      "                                                                 \n",
      " conv2d_9 (Conv2D)           (None, 150, 150, 32)      9248      \n",
      "                                                                 \n",
      " batch_normalization_9 (Batc  (None, 150, 150, 32)     128       \n",
      " hNormalization)                                                 \n",
      "                                                                 \n",
      " max_pooling2d_3 (MaxPooling  (None, 50, 50, 32)       0         \n",
      " 2D)                                                             \n",
      "                                                                 \n",
      " conv2d_10 (Conv2D)          (None, 50, 50, 64)        18496     \n",
      "                                                                 \n",
      " batch_normalization_10 (Bat  (None, 50, 50, 64)       256       \n",
      " chNormalization)                                                \n",
      "                                                                 \n",
      " conv2d_11 (Conv2D)          (None, 50, 50, 64)        36928     \n",
      "                                                                 \n",
      " batch_normalization_11 (Bat  (None, 50, 50, 64)       256       \n",
      " chNormalization)                                                \n",
      "                                                                 \n",
      " conv2d_12 (Conv2D)          (None, 50, 50, 64)        36928     \n",
      "                                                                 \n",
      " batch_normalization_12 (Bat  (None, 50, 50, 64)       256       \n",
      " chNormalization)                                                \n",
      "                                                                 \n",
      " max_pooling2d_4 (MaxPooling  (None, 16, 16, 64)       0         \n",
      " 2D)                                                             \n",
      "                                                                 \n",
      " conv2d_13 (Conv2D)          (None, 16, 16, 128)       73856     \n",
      "                                                                 \n",
      " batch_normalization_13 (Bat  (None, 16, 16, 128)      512       \n",
      " chNormalization)                                                \n",
      "                                                                 \n",
      " conv2d_14 (Conv2D)          (None, 16, 16, 128)       147584    \n",
      "                                                                 \n",
      " batch_normalization_14 (Bat  (None, 16, 16, 128)      512       \n",
      " chNormalization)                                                \n",
      "                                                                 \n",
      " conv2d_15 (Conv2D)          (None, 16, 16, 128)       147584    \n",
      "                                                                 \n",
      " batch_normalization_15 (Bat  (None, 16, 16, 128)      512       \n",
      " chNormalization)                                                \n",
      "                                                                 \n",
      " max_pooling2d_5 (MaxPooling  (None, 5, 5, 128)        0         \n",
      " 2D)                                                             \n",
      "                                                                 \n",
      " conv2d_16 (Conv2D)          (None, 5, 5, 256)         295168    \n",
      "                                                                 \n",
      " batch_normalization_16 (Bat  (None, 5, 5, 256)        1024      \n",
      " chNormalization)                                                \n",
      "                                                                 \n",
      " conv2d_17 (Conv2D)          (None, 5, 5, 256)         590080    \n",
      "                                                                 \n",
      " batch_normalization_17 (Bat  (None, 5, 5, 256)        1024      \n",
      " chNormalization)                                                \n",
      "                                                                 \n",
      " conv2d_18 (Conv2D)          (None, 5, 5, 256)         590080    \n",
      "                                                                 \n",
      " batch_normalization_18 (Bat  (None, 5, 5, 256)        1024      \n",
      " chNormalization)                                                \n",
      "                                                                 \n",
      " max_pooling2d_6 (MaxPooling  (None, 1, 1, 256)        0         \n",
      " 2D)                                                             \n",
      "                                                                 \n",
      " global_average_pooling2d_1   (None, 256)              0         \n",
      " (GlobalAveragePooling2D)                                        \n",
      "                                                                 \n",
      " Softmax (Dense)             (None, 1817)              466969    \n",
      "                                                                 \n",
      "=================================================================\n",
      "Total params: 2,419,449\n",
      "Trainable params: 2,416,633\n",
      "Non-trainable params: 2,816\n",
      "_________________________________________________________________\n"
     ]
    }
   ],
   "source": [
    "CNN.summary()"
   ]
  },
  {
   "cell_type": "code",
   "execution_count": 46,
   "id": "6540ecbe",
   "metadata": {},
   "outputs": [],
   "source": [
    "callbacks = [\n",
    "    # monitor='val_accuracy'  ==>  유효성검사 정확도를 모니터링해서\n",
    "    # patience=5  ==> 5번 이상 개선되지 않으면 학습 중지\n",
    "    # mode='max' ==> 유효성 검사 정확도를 최대화\n",
    "    # verbose=1 ==> 교육 진행 및 조기 중지 조건에 대한 자세한 출력 메시지를 생성\n",
    "    EarlyStopping(monitor='val_accuracy', patience=5, mode='max', verbose=1),\n",
    "    ModelCheckpoint('D:/model/dh_CNN_model.h5', monitor='val_accuracy', save_best_only=True, mode='max', verbose=1)\n",
    "]"
   ]
  },
  {
   "cell_type": "code",
   "execution_count": 49,
   "id": "8f6332f7",
   "metadata": {},
   "outputs": [],
   "source": [
    "opt = keras.optimizers.Adam(learning_rate = 0.001)\n",
    "CNN.compile( optimizer = opt,\n",
    "             loss = 'categorical_crossentropy', \n",
    "             metrics = ['accuracy'] )"
   ]
  },
  {
   "cell_type": "code",
   "execution_count": null,
   "id": "b2823d4a",
   "metadata": {
    "scrolled": false
   },
   "outputs": [
    {
     "name": "stdout",
     "output_type": "stream",
     "text": [
      "Epoch 1/150\n",
      "9085/9085 [==============================] - ETA: 0s - loss: 3.1310 - accuracy: 0.4113\n",
      "Epoch 1: val_accuracy improved from -inf to 0.67856, saving model to dh_CNN_model.h5\n",
      "9085/9085 [==============================] - 3768s 415ms/step - loss: 3.1310 - accuracy: 0.4113 - val_loss: 1.2813 - val_accuracy: 0.6786\n",
      "Epoch 2/150\n",
      "9085/9085 [==============================] - ETA: 0s - loss: 0.6350 - accuracy: 0.8308\n",
      "Epoch 2: val_accuracy improved from 0.67856 to 0.78729, saving model to dh_CNN_model.h5\n",
      "9085/9085 [==============================] - 1116s 123ms/step - loss: 0.6350 - accuracy: 0.8308 - val_loss: 0.8403 - val_accuracy: 0.7873\n",
      "Epoch 3/150\n",
      "9084/9085 [============================>.] - ETA: 0s - loss: 0.3997 - accuracy: 0.8909\n",
      "Epoch 3: val_accuracy improved from 0.78729 to 0.84024, saving model to dh_CNN_model.h5\n",
      "9085/9085 [==============================] - 541s 60ms/step - loss: 0.3996 - accuracy: 0.8909 - val_loss: 0.6183 - val_accuracy: 0.8402\n",
      "Epoch 4/150\n",
      "9085/9085 [==============================] - ETA: 0s - loss: 0.2988 - accuracy: 0.9169"
     ]
    }
   ],
   "source": [
    "History = CNN.fit( Train_Generator,\n",
    "                   steps_per_epoch = Train_Generator.samples//Batch_Size,\n",
    "                   validation_data = Val_Generator,\n",
    "                   validation_steps = Val_Generator.samples//Batch_Size,\n",
    "                   epochs = Epochs,\n",
    "                 callbacks=callbacks )"
   ]
  },
  {
   "cell_type": "code",
   "execution_count": null,
   "id": "6a22acaf",
   "metadata": {},
   "outputs": [],
   "source": [
    "Train_Accuracy = History.history['accuracy']\n",
    "Val_Accuracy = History.history['val_accuracy']\n",
    "Train_Loss = History.history['loss']\n",
    "Val_Loss = History.history['val_loss']\n",
    "epochs_range = range(Epochs)\n",
    "\n",
    "plt.figure( figsize=(14,4) )\n",
    "plt.subplot( 1,2,1 )\n",
    "plt.plot( range( len(Train_Accuracy) ), Train_Accuracy, label='Train' ) \n",
    "plt.plot( range( len(Val_Accuracy) ), Val_Accuracy, label='Validation' ) \n",
    "plt.legend( loc='lower right' )\n",
    "plt.title( 'Accuracy' )\n",
    "\n",
    "plt.subplot( 1,2,2 )\n",
    "plt.plot( range( len(Train_Loss) ), Train_Loss, label='Train' )\n",
    "plt.plot( range( len(Val_Loss) ), Val_Loss, label='Validation' )\n",
    "plt.legend( loc='upper right' )\n",
    "plt.title( 'Loss')\n",
    "\n",
    "plt.show()"
   ]
  },
  {
   "cell_type": "code",
   "execution_count": 34,
   "id": "81430a4c",
   "metadata": {},
   "outputs": [],
   "source": [
    "#model_path = 'D:/model'"
   ]
  },
  {
   "cell_type": "code",
   "execution_count": 35,
   "id": "0e42ccd3",
   "metadata": {},
   "outputs": [],
   "source": [
    "#os.chdir( model_path )\n",
    "#CNN.save( 'CNN_Model3.h5' )"
   ]
  },
  {
   "cell_type": "code",
   "execution_count": null,
   "id": "6e3d7873",
   "metadata": {},
   "outputs": [],
   "source": [
    "CNN = tf.keras.models.load_model(model_path+'dh_CNN_model.h5')"
   ]
  },
  {
   "cell_type": "code",
   "execution_count": null,
   "id": "1ded0df2",
   "metadata": {},
   "outputs": [],
   "source": [
    "History = CNN.fit( Train_Generator,\n",
    "                   steps_per_epoch = Train_Generator.samples//Batch_Size,\n",
    "                   validation_data = Val_Generator,\n",
    "                   validation_steps = Val_Generator.samples//Batch_Size,\n",
    "                   epochs = Epochs,\n",
    "                 callbacks=callbacks )"
   ]
  }
 ],
 "metadata": {
  "kernelspec": {
   "display_name": "Python 3 (ipykernel)",
   "language": "python",
   "name": "python3"
  },
  "language_info": {
   "codemirror_mode": {
    "name": "ipython",
    "version": 3
   },
   "file_extension": ".py",
   "mimetype": "text/x-python",
   "name": "python",
   "nbconvert_exporter": "python",
   "pygments_lexer": "ipython3",
   "version": "3.9.13"
  }
 },
 "nbformat": 4,
 "nbformat_minor": 5
}
