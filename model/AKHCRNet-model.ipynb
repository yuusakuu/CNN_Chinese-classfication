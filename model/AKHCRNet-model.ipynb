{
 "cells": [
  {
   "cell_type": "code",
   "execution_count": 1,
   "metadata": {
    "colab": {},
    "colab_type": "code",
    "id": "YuAn-j2fl6_Z"
   },
   "outputs": [],
   "source": [
    "import numpy as np\n",
    "import pandas as pd\n",
    "import tensorflow as tf\n",
    "from tensorflow import keras\n",
    "from tensorflow.keras.preprocessing.image import ImageDataGenerator\n",
    "from tensorflow.keras.layers import Input, Conv2D, MaxPooling2D, GlobalAveragePooling2D, BatchNormalization, ZeroPadding2D\n",
    "from tensorflow.keras.layers import Dense, Dropout, Flatten, Activation, Concatenate, Lambda\n",
    "from tensorflow.keras.models import Model\n",
    "from tensorflow.keras.callbacks import EarlyStopping, ReduceLROnPlateau, ModelCheckpoint\n",
    "from tensorflow.keras.optimizers import Adam\n",
    "from tensorflow.keras import regularizers, activations\n",
    "import os\n",
    "from sklearn.utils import shuffle\n",
    "from sklearn.metrics import classification_report, confusion_matrix, roc_curve, auc\n",
    "from sklearn.model_selection import train_test_split\n",
    "import matplotlib.pyplot as plt\n",
    "\n",
    "# %matplotlib inline"
   ]
  },
  {
   "cell_type": "code",
   "execution_count": 2,
   "metadata": {
    "colab": {
     "base_uri": "https://localhost:8080/",
     "height": 73
    },
    "colab_type": "code",
    "id": "IqK_bXJrmOZl",
    "outputId": "1da3d6db-f55a-42f1-92ce-72c464f0a233"
   },
   "outputs": [],
   "source": [
    "import os\n",
    "#os.environ['KAGGLE_USERNAME'] = \"theroyakash\"\n",
    "#os.environ['KAGGLE_KEY'] = \"SECRET_KEY\"\n",
    "#!kaggle datasets download -d theroyakash/_SECRETKEY_"
   ]
  },
  {
   "cell_type": "code",
   "execution_count": 4,
   "metadata": {},
   "outputs": [],
   "source": [
    "import pathlib\n",
    "dataset_url = 'D:/fast_test'\n",
    "data_dir = pathlib.Path(dataset_url)"
   ]
  },
  {
   "cell_type": "code",
   "execution_count": 5,
   "metadata": {},
   "outputs": [
    {
     "name": "stdout",
     "output_type": "stream",
     "text": [
      "Found 5904 images belonging to 369 classes.\n"
     ]
    }
   ],
   "source": [
    "train_datagen = ImageDataGenerator(rescale=1./255,\n",
    "    # shear_range=0.2,\n",
    "    # zoom_range=0.2,\n",
    "    horizontal_flip=False,\n",
    "    validation_split=0.28) # set validation split\n",
    "\n",
    "train_generator = train_datagen.flow_from_directory(\n",
    "    dataset_url,\n",
    "    target_size=(32,32),\n",
    "    color_mode='grayscale',\n",
    "\tclass_mode='categorical',\n",
    "    batch_size = batch_size,\n",
    "    subset='training') # set as training data"
   ]
  },
  {
   "cell_type": "code",
   "execution_count": 6,
   "metadata": {},
   "outputs": [
    {
     "name": "stdout",
     "output_type": "stream",
     "text": [
      "Found 1845 images belonging to 369 classes.\n"
     ]
    }
   ],
   "source": [
    "validation_generator = train_datagen.flow_from_directory(\n",
    "    dataset_url, # same directory as training data\n",
    "    target_size=(32,32),\n",
    "    color_mode='grayscale',\n",
    "\tclass_mode='categorical',\n",
    "    batch_size = batch_size,\n",
    "    subset='validation') # set as validation data"
   ]
  },
  {
   "cell_type": "code",
   "execution_count": 7,
   "metadata": {},
   "outputs": [],
   "source": [
    "import tensorflow as tf\n",
    "from tensorflow.keras.preprocessing.image import load_img, ImageDataGenerator\n",
    "from tensorflow.keras.models import Sequential, load_model\n",
    "from tensorflow.keras.layers import Conv2D, MaxPooling2D, Flatten, Dense, Dropout  \n",
    "from tensorflow.keras.optimizers import *"
   ]
  },
  {
   "cell_type": "code",
   "execution_count": 8,
   "metadata": {},
   "outputs": [],
   "source": [
    "os.chdir(dataset_url)\n",
    "Num_Classes = len(os.listdir())\n",
    "Image_Size = ( 50, 50 )\n",
    "Epochs = 50\n",
    "Batch_Size = 256"
   ]
  },
  {
   "cell_type": "code",
   "execution_count": 12,
   "metadata": {
    "colab": {},
    "colab_type": "code",
    "id": "xgTU2psbmFHE"
   },
   "outputs": [],
   "source": [
    "class AKHCRNetV1():\n",
    "    \n",
    "    def make_model(self):\n",
    "        \n",
    "        input_shape = self.input_shape\n",
    "        input_layer = Input(input_shape)\n",
    "        conv2D_1 = Conv2D(32, (5, 5), activation='relu', padding='same', name='conv2D_1')(input_layer)\n",
    "        conv2D_2 = Conv2D(32, (5, 5), padding='same', name='conv2D_2')(conv2D_1)\n",
    "        batchnorm_1 = BatchNormalization(name='first_batchNorm_layer')(conv2D_2)\n",
    "        activation1 = Activation('relu')(batchnorm_1)\n",
    "        \n",
    "        maxpool_1 = MaxPooling2D(pool_size=(2,2))(batchnorm_1)\n",
    "        \n",
    "        first_branch_0_conv2D_1 = Conv2D(128, (1, 1), activation='relu', padding='same', name='first_branch_0_conv2D_1')(maxpool_1)\n",
    "        first_branch_0_conv2D_2 = Conv2D(128, (5, 5), activation='relu', padding='same', name='first_branch_0_conv2D_2')(first_branch_0_conv2D_1)\n",
    "        \n",
    "        first_branch_1_conv2D_1 = Conv2D(128, (1, 1),activation='relu',padding='same', name='first_branch_1_conv2D_1')(maxpool_1)\n",
    "        first_branch_1_conv2D_2 = Conv2D(128, (3, 3),activation='relu',padding='same', name='first_branch_1_conv2D_2')(first_branch_1_conv2D_1)\n",
    "        \n",
    "        first_branch_2_conv2D = Conv2D(128, (1, 1),activation='relu',padding='same', name='first_branch_2_conv2D')(maxpool_1)\n",
    "        \n",
    "        first_branch_3_MaxPool_1 = MaxPooling2D((3,3), strides=(1,1), padding='same', name='first_branch_3_MaxPool_1')(maxpool_1)\n",
    "        first_branch_3_Convolution = Conv2D(64, (1,1), padding='same', activation='relu', name='first_branch_3_Convolution')(first_branch_3_MaxPool_1)\n",
    "                \n",
    "        concatened_first_branch = Concatenate()([first_branch_0_conv2D_2, first_branch_1_conv2D_2, first_branch_2_conv2D, first_branch_3_Convolution])\n",
    "        concatenation_activation = Activation('relu')(concatened_first_branch)\n",
    "\n",
    "        conv2D_3 = Conv2D(256, (3, 3), activation='relu', padding='same', name='conv2D_3')(concatenation_activation)\n",
    "        maxpool_2 = MaxPooling2D(pool_size=(2,2))(conv2D_3)\n",
    "        conv2D_4 = Conv2D(256, (3, 3), padding='same', name='conv2D_4')(maxpool_2)\n",
    "        batchnorm_2 = BatchNormalization(name='second_batchNorm_layer')(conv2D_4)\n",
    "        activation2 = Activation('relu')(batchnorm_2)\n",
    "\n",
    "        conv2D_5 = Conv2D(512, (3, 3), activation='relu', padding='same', name='conv2D_5')(activation2)\n",
    "        maxpool_3 = MaxPooling2D(pool_size=(2,2))(conv2D_5)\n",
    "        conv2D_6 = Conv2D(512, (3, 3), padding='same', name='conv2D_6')(maxpool_3)\n",
    "        batchnorm_3 = BatchNormalization(name='third_batchNorm_layer')(conv2D_6)\n",
    "        activation3 = Activation('relu')(batchnorm_3)\n",
    "        maxpool_4 = MaxPooling2D(pool_size=(2,2))(activation3)\n",
    "        \n",
    "        flattened_before_dense = Flatten()(maxpool_4)\n",
    "        dense1 = Dense(1024, activation='relu', name='firstDenseLayer', kernel_regularizer= keras.regularizers.l2(0.001))(flattened_before_dense)\n",
    "        dense2 = Dense(512, activation='relu', name='SecondDenseLayer', kernel_regularizer= keras.regularizers.l2(0.001))(dense1)\n",
    "        dropout1 = Dropout(0.5, name='FirstDropOutLayer')(dense2)\n",
    "        dense3 = Dense(256, activation='relu', name='ThirdDenseLayer', kernel_regularizer= keras.regularizers.l2(0.001))(dropout1)\n",
    "        \n",
    "        dense4 = Dense(128, activation='relu', name='FourthDenseLayer')(dense3)\n",
    "\n",
    "        prediction_branch = Dense(self.output,activation='softmax', name='FinalSoftmaxLayer')(dense4)\n",
    "\n",
    "        model = Model(inputs=input_layer, outputs=prediction_branch)\n",
    "        \n",
    "        \n",
    "        return model\n",
    "    \n",
    "    def show_graph(self):\n",
    "        return model.summary()\n",
    "    \n",
    "    def __init__(self, input_shape, output):\n",
    "        self.input_shape = input_shape\n",
    "        self.output = output"
   ]
  },
  {
   "cell_type": "code",
   "execution_count": 22,
   "metadata": {
    "colab": {},
    "colab_type": "code",
    "id": "VYZEIQ2fmHdE"
   },
   "outputs": [],
   "source": [
    "architecture = AKHCRNetV1(input_shape= (32, 32, 1), output=len(os.listdir()))"
   ]
  },
  {
   "cell_type": "code",
   "execution_count": 23,
   "metadata": {
    "colab": {},
    "colab_type": "code",
    "id": "ppRxPVqtmJnb"
   },
   "outputs": [],
   "source": [
    "model = architecture.make_model()"
   ]
  },
  {
   "cell_type": "code",
   "execution_count": 24,
   "metadata": {
    "colab": {},
    "colab_type": "code",
    "id": "nKlXpSPBmLDX"
   },
   "outputs": [
    {
     "name": "stdout",
     "output_type": "stream",
     "text": [
      "Model: \"model_1\"\n",
      "__________________________________________________________________________________________________\n",
      " Layer (type)                   Output Shape         Param #     Connected to                     \n",
      "==================================================================================================\n",
      " input_2 (InputLayer)           [(None, 32, 32, 1)]  0           []                               \n",
      "                                                                                                  \n",
      " conv2D_1 (Conv2D)              (None, 32, 32, 32)   832         ['input_2[0][0]']                \n",
      "                                                                                                  \n",
      " conv2D_2 (Conv2D)              (None, 32, 32, 32)   25632       ['conv2D_1[0][0]']               \n",
      "                                                                                                  \n",
      " first_batchNorm_layer (BatchNo  (None, 32, 32, 32)  128         ['conv2D_2[0][0]']               \n",
      " rmalization)                                                                                     \n",
      "                                                                                                  \n",
      " max_pooling2d_4 (MaxPooling2D)  (None, 16, 16, 32)  0           ['first_batchNorm_layer[0][0]']  \n",
      "                                                                                                  \n",
      " first_branch_0_conv2D_1 (Conv2  (None, 16, 16, 128)  4224       ['max_pooling2d_4[0][0]']        \n",
      " D)                                                                                               \n",
      "                                                                                                  \n",
      " first_branch_1_conv2D_1 (Conv2  (None, 16, 16, 128)  4224       ['max_pooling2d_4[0][0]']        \n",
      " D)                                                                                               \n",
      "                                                                                                  \n",
      " first_branch_3_MaxPool_1 (MaxP  (None, 16, 16, 32)  0           ['max_pooling2d_4[0][0]']        \n",
      " ooling2D)                                                                                        \n",
      "                                                                                                  \n",
      " first_branch_0_conv2D_2 (Conv2  (None, 16, 16, 128)  409728     ['first_branch_0_conv2D_1[0][0]']\n",
      " D)                                                                                               \n",
      "                                                                                                  \n",
      " first_branch_1_conv2D_2 (Conv2  (None, 16, 16, 128)  147584     ['first_branch_1_conv2D_1[0][0]']\n",
      " D)                                                                                               \n",
      "                                                                                                  \n",
      " first_branch_2_conv2D (Conv2D)  (None, 16, 16, 128)  4224       ['max_pooling2d_4[0][0]']        \n",
      "                                                                                                  \n",
      " first_branch_3_Convolution (Co  (None, 16, 16, 64)  2112        ['first_branch_3_MaxPool_1[0][0]'\n",
      " nv2D)                                                           ]                                \n",
      "                                                                                                  \n",
      " concatenate_1 (Concatenate)    (None, 16, 16, 448)  0           ['first_branch_0_conv2D_2[0][0]',\n",
      "                                                                  'first_branch_1_conv2D_2[0][0]',\n",
      "                                                                  'first_branch_2_conv2D[0][0]',  \n",
      "                                                                  'first_branch_3_Convolution[0][0\n",
      "                                                                 ]']                              \n",
      "                                                                                                  \n",
      " activation_5 (Activation)      (None, 16, 16, 448)  0           ['concatenate_1[0][0]']          \n",
      "                                                                                                  \n",
      " conv2D_3 (Conv2D)              (None, 16, 16, 256)  1032448     ['activation_5[0][0]']           \n",
      "                                                                                                  \n",
      " max_pooling2d_5 (MaxPooling2D)  (None, 8, 8, 256)   0           ['conv2D_3[0][0]']               \n",
      "                                                                                                  \n",
      " conv2D_4 (Conv2D)              (None, 8, 8, 256)    590080      ['max_pooling2d_5[0][0]']        \n",
      "                                                                                                  \n",
      " second_batchNorm_layer (BatchN  (None, 8, 8, 256)   1024        ['conv2D_4[0][0]']               \n",
      " ormalization)                                                                                    \n",
      "                                                                                                  \n",
      " activation_6 (Activation)      (None, 8, 8, 256)    0           ['second_batchNorm_layer[0][0]'] \n",
      "                                                                                                  \n",
      " conv2D_5 (Conv2D)              (None, 8, 8, 512)    1180160     ['activation_6[0][0]']           \n",
      "                                                                                                  \n",
      " max_pooling2d_6 (MaxPooling2D)  (None, 4, 4, 512)   0           ['conv2D_5[0][0]']               \n",
      "                                                                                                  \n",
      " conv2D_6 (Conv2D)              (None, 4, 4, 512)    2359808     ['max_pooling2d_6[0][0]']        \n",
      "                                                                                                  \n",
      " third_batchNorm_layer (BatchNo  (None, 4, 4, 512)   2048        ['conv2D_6[0][0]']               \n",
      " rmalization)                                                                                     \n",
      "                                                                                                  \n",
      " activation_7 (Activation)      (None, 4, 4, 512)    0           ['third_batchNorm_layer[0][0]']  \n",
      "                                                                                                  \n",
      " max_pooling2d_7 (MaxPooling2D)  (None, 2, 2, 512)   0           ['activation_7[0][0]']           \n",
      "                                                                                                  \n",
      " flatten_1 (Flatten)            (None, 2048)         0           ['max_pooling2d_7[0][0]']        \n",
      "                                                                                                  \n",
      " firstDenseLayer (Dense)        (None, 1024)         2098176     ['flatten_1[0][0]']              \n",
      "                                                                                                  \n",
      " SecondDenseLayer (Dense)       (None, 512)          524800      ['firstDenseLayer[0][0]']        \n",
      "                                                                                                  \n",
      " FirstDropOutLayer (Dropout)    (None, 512)          0           ['SecondDenseLayer[0][0]']       \n",
      "                                                                                                  \n",
      " ThirdDenseLayer (Dense)        (None, 256)          131328      ['FirstDropOutLayer[0][0]']      \n",
      "                                                                                                  \n",
      " FourthDenseLayer (Dense)       (None, 128)          32896       ['ThirdDenseLayer[0][0]']        \n",
      "                                                                                                  \n",
      " FinalSoftmaxLayer (Dense)      (None, 369)          47601       ['FourthDenseLayer[0][0]']       \n",
      "                                                                                                  \n",
      "==================================================================================================\n",
      "Total params: 8,599,057\n",
      "Trainable params: 8,597,457\n",
      "Non-trainable params: 1,600\n",
      "__________________________________________________________________________________________________\n"
     ]
    }
   ],
   "source": [
    "architecture.show_graph()"
   ]
  },
  {
   "cell_type": "code",
   "execution_count": 25,
   "metadata": {
    "colab": {},
    "colab_type": "code",
    "id": "23nXAsk3mZVr"
   },
   "outputs": [],
   "source": [
    "learning_rate = 0.001\n",
    "epochs = 20\n",
    "batch_size = 256"
   ]
  },
  {
   "cell_type": "code",
   "execution_count": 26,
   "metadata": {
    "colab": {
     "base_uri": "https://localhost:8080/",
     "height": 1000
    },
    "colab_type": "code",
    "id": "fP58YpOza7P0",
    "outputId": "cc79371c-2bc4-48de-a8fe-6196fbc4ee71"
   },
   "outputs": [
    {
     "name": "stdout",
     "output_type": "stream",
     "text": [
      "Model: \"model_1\"\n",
      "__________________________________________________________________________________________________\n",
      " Layer (type)                   Output Shape         Param #     Connected to                     \n",
      "==================================================================================================\n",
      " input_2 (InputLayer)           [(None, 32, 32, 1)]  0           []                               \n",
      "                                                                                                  \n",
      " conv2D_1 (Conv2D)              (None, 32, 32, 32)   832         ['input_2[0][0]']                \n",
      "                                                                                                  \n",
      " conv2D_2 (Conv2D)              (None, 32, 32, 32)   25632       ['conv2D_1[0][0]']               \n",
      "                                                                                                  \n",
      " first_batchNorm_layer (BatchNo  (None, 32, 32, 32)  128         ['conv2D_2[0][0]']               \n",
      " rmalization)                                                                                     \n",
      "                                                                                                  \n",
      " max_pooling2d_4 (MaxPooling2D)  (None, 16, 16, 32)  0           ['first_batchNorm_layer[0][0]']  \n",
      "                                                                                                  \n",
      " first_branch_0_conv2D_1 (Conv2  (None, 16, 16, 128)  4224       ['max_pooling2d_4[0][0]']        \n",
      " D)                                                                                               \n",
      "                                                                                                  \n",
      " first_branch_1_conv2D_1 (Conv2  (None, 16, 16, 128)  4224       ['max_pooling2d_4[0][0]']        \n",
      " D)                                                                                               \n",
      "                                                                                                  \n",
      " first_branch_3_MaxPool_1 (MaxP  (None, 16, 16, 32)  0           ['max_pooling2d_4[0][0]']        \n",
      " ooling2D)                                                                                        \n",
      "                                                                                                  \n",
      " first_branch_0_conv2D_2 (Conv2  (None, 16, 16, 128)  409728     ['first_branch_0_conv2D_1[0][0]']\n",
      " D)                                                                                               \n",
      "                                                                                                  \n",
      " first_branch_1_conv2D_2 (Conv2  (None, 16, 16, 128)  147584     ['first_branch_1_conv2D_1[0][0]']\n",
      " D)                                                                                               \n",
      "                                                                                                  \n",
      " first_branch_2_conv2D (Conv2D)  (None, 16, 16, 128)  4224       ['max_pooling2d_4[0][0]']        \n",
      "                                                                                                  \n",
      " first_branch_3_Convolution (Co  (None, 16, 16, 64)  2112        ['first_branch_3_MaxPool_1[0][0]'\n",
      " nv2D)                                                           ]                                \n",
      "                                                                                                  \n",
      " concatenate_1 (Concatenate)    (None, 16, 16, 448)  0           ['first_branch_0_conv2D_2[0][0]',\n",
      "                                                                  'first_branch_1_conv2D_2[0][0]',\n",
      "                                                                  'first_branch_2_conv2D[0][0]',  \n",
      "                                                                  'first_branch_3_Convolution[0][0\n",
      "                                                                 ]']                              \n",
      "                                                                                                  \n",
      " activation_5 (Activation)      (None, 16, 16, 448)  0           ['concatenate_1[0][0]']          \n",
      "                                                                                                  \n",
      " conv2D_3 (Conv2D)              (None, 16, 16, 256)  1032448     ['activation_5[0][0]']           \n",
      "                                                                                                  \n",
      " max_pooling2d_5 (MaxPooling2D)  (None, 8, 8, 256)   0           ['conv2D_3[0][0]']               \n",
      "                                                                                                  \n",
      " conv2D_4 (Conv2D)              (None, 8, 8, 256)    590080      ['max_pooling2d_5[0][0]']        \n",
      "                                                                                                  \n",
      " second_batchNorm_layer (BatchN  (None, 8, 8, 256)   1024        ['conv2D_4[0][0]']               \n",
      " ormalization)                                                                                    \n",
      "                                                                                                  \n",
      " activation_6 (Activation)      (None, 8, 8, 256)    0           ['second_batchNorm_layer[0][0]'] \n",
      "                                                                                                  \n",
      " conv2D_5 (Conv2D)              (None, 8, 8, 512)    1180160     ['activation_6[0][0]']           \n",
      "                                                                                                  \n",
      " max_pooling2d_6 (MaxPooling2D)  (None, 4, 4, 512)   0           ['conv2D_5[0][0]']               \n",
      "                                                                                                  \n",
      " conv2D_6 (Conv2D)              (None, 4, 4, 512)    2359808     ['max_pooling2d_6[0][0]']        \n",
      "                                                                                                  \n",
      " third_batchNorm_layer (BatchNo  (None, 4, 4, 512)   2048        ['conv2D_6[0][0]']               \n",
      " rmalization)                                                                                     \n",
      "                                                                                                  \n",
      " activation_7 (Activation)      (None, 4, 4, 512)    0           ['third_batchNorm_layer[0][0]']  \n",
      "                                                                                                  \n",
      " max_pooling2d_7 (MaxPooling2D)  (None, 2, 2, 512)   0           ['activation_7[0][0]']           \n",
      "                                                                                                  \n",
      " flatten_1 (Flatten)            (None, 2048)         0           ['max_pooling2d_7[0][0]']        \n",
      "                                                                                                  \n",
      " firstDenseLayer (Dense)        (None, 1024)         2098176     ['flatten_1[0][0]']              \n",
      "                                                                                                  \n",
      " SecondDenseLayer (Dense)       (None, 512)          524800      ['firstDenseLayer[0][0]']        \n",
      "                                                                                                  \n",
      " FirstDropOutLayer (Dropout)    (None, 512)          0           ['SecondDenseLayer[0][0]']       \n",
      "                                                                                                  \n",
      " ThirdDenseLayer (Dense)        (None, 256)          131328      ['FirstDropOutLayer[0][0]']      \n",
      "                                                                                                  \n",
      " FourthDenseLayer (Dense)       (None, 128)          32896       ['ThirdDenseLayer[0][0]']        \n",
      "                                                                                                  \n",
      " FinalSoftmaxLayer (Dense)      (None, 369)          47601       ['FourthDenseLayer[0][0]']       \n",
      "                                                                                                  \n",
      "==================================================================================================\n",
      "Total params: 8,599,057\n",
      "Trainable params: 8,597,457\n",
      "Non-trainable params: 1,600\n",
      "__________________________________________________________________________________________________\n"
     ]
    }
   ],
   "source": [
    "model.compile(loss='categorical_crossentropy', \n",
    "                metrics=['accuracy'],\n",
    "                optimizer=Adam(learning_rate=0.001))\n",
    "\n",
    "model.summary()"
   ]
  },
  {
   "cell_type": "code",
   "execution_count": 27,
   "metadata": {
    "colab": {
     "base_uri": "https://localhost:8080/",
     "height": 36
    },
    "colab_type": "code",
    "id": "M75tEv72yWIN",
    "outputId": "38431806-1591-4533-8182-458958549c0f"
   },
   "outputs": [
    {
     "data": {
      "text/plain": [
       "32"
      ]
     },
     "execution_count": 27,
     "metadata": {},
     "output_type": "execute_result"
    }
   ],
   "source": [
    "len(model.layers)"
   ]
  },
  {
   "cell_type": "code",
   "execution_count": 28,
   "metadata": {
    "colab": {
     "base_uri": "https://localhost:8080/",
     "height": 1000
    },
    "colab_type": "code",
    "id": "talRJsFhvfHZ",
    "outputId": "ea5c7c7e-a5e3-44c8-e362-92ec319ca907"
   },
   "outputs": [
    {
     "name": "stdout",
     "output_type": "stream",
     "text": [
      "You must install pydot (`pip install pydot`) and install graphviz (see instructions at https://graphviz.gitlab.io/download/) for plot_model to work.\n"
     ]
    }
   ],
   "source": [
    "from tensorflow.keras.utils import plot_model\n",
    "plot_model(model, 'AKHCRNetV2.png', show_shapes=True)"
   ]
  },
  {
   "cell_type": "code",
   "execution_count": 29,
   "metadata": {
    "colab": {},
    "colab_type": "code",
    "id": "1sviqijjfiGm"
   },
   "outputs": [],
   "source": [
    "filepath = \"model.h5\"\n",
    "checkpoint = ModelCheckpoint(filepath, monitor='val_loss', verbose=1, save_best_only=True, mode='min')\n",
    "callbacks_list = [checkpoint]"
   ]
  },
  {
   "cell_type": "code",
   "execution_count": 30,
   "metadata": {
    "colab": {
     "base_uri": "https://localhost:8080/",
     "height": 389
    },
    "colab_type": "code",
    "id": "9jRevTgLmb00",
    "outputId": "2d47e8fc-ad4b-4b6d-84e6-53537692a213"
   },
   "outputs": [
    {
     "name": "stdout",
     "output_type": "stream",
     "text": [
      "Epoch 1/5\n",
      "23/23 [==============================] - ETA: 0s - loss: 7.9528 - accuracy: 0.0027\n",
      "Epoch 1: val_loss improved from inf to 7.45838, saving model to model.h5\n",
      "23/23 [==============================] - 171s 7s/step - loss: 7.9528 - accuracy: 0.0027 - val_loss: 7.4584 - val_accuracy: 0.0028\n",
      "Epoch 2/5\n",
      "23/23 [==============================] - ETA: 0s - loss: 7.1980 - accuracy: 0.0035\n",
      "Epoch 2: val_loss improved from 7.45838 to 6.94146, saving model to model.h5\n",
      "23/23 [==============================] - 70s 3s/step - loss: 7.1980 - accuracy: 0.0035 - val_loss: 6.9415 - val_accuracy: 0.0028\n",
      "Epoch 3/5\n",
      "23/23 [==============================] - ETA: 0s - loss: 6.7914 - accuracy: 0.0039\n",
      "Epoch 3: val_loss improved from 6.94146 to 6.65266, saving model to model.h5\n",
      "23/23 [==============================] - 73s 3s/step - loss: 6.7914 - accuracy: 0.0039 - val_loss: 6.6527 - val_accuracy: 0.0028\n",
      "Epoch 4/5\n",
      "23/23 [==============================] - ETA: 0s - loss: 6.5598 - accuracy: 0.0048\n",
      "Epoch 4: val_loss improved from 6.65266 to 6.46997, saving model to model.h5\n",
      "23/23 [==============================] - 72s 3s/step - loss: 6.5598 - accuracy: 0.0048 - val_loss: 6.4700 - val_accuracy: 0.0028\n",
      "Epoch 5/5\n",
      "23/23 [==============================] - ETA: 0s - loss: 6.4060 - accuracy: 0.0023\n",
      "Epoch 5: val_loss improved from 6.46997 to 6.34475, saving model to model.h5\n",
      "23/23 [==============================] - 73s 3s/step - loss: 6.4060 - accuracy: 0.0023 - val_loss: 6.3447 - val_accuracy: 0.0028\n"
     ]
    }
   ],
   "source": [
    "history = model.fit(train_generator,\n",
    "                    epochs=5,\n",
    "                    steps_per_epoch = train_generator.samples // batch_size,\n",
    "                    validation_data = validation_generator, \n",
    "                    validation_steps = validation_generator.samples // batch_size, callbacks=callbacks_list)"
   ]
  },
  {
   "cell_type": "code",
   "execution_count": 31,
   "metadata": {
    "colab": {
     "base_uri": "https://localhost:8080/",
     "height": 54
    },
    "colab_type": "code",
    "id": "s43aB_u3UsJV",
    "outputId": "1c5c596d-cb2e-4cf2-845a-979b32852690"
   },
   "outputs": [
    {
     "name": "stdout",
     "output_type": "stream",
     "text": [
      "<tf.Variable 'learning_rate:0' shape=() dtype=float32, numpy=0.001>\n"
     ]
    }
   ],
   "source": [
    "from keras import backend as K\n",
    "print(model.optimizer.learning_rate)"
   ]
  },
  {
   "cell_type": "code",
   "execution_count": null,
   "metadata": {
    "colab": {
     "base_uri": "https://localhost:8080/",
     "height": 240
    },
    "colab_type": "code",
    "id": "HLQ1T9qnoH7Y",
    "outputId": "9e48a486-7b1e-48f1-cb65-3190b56afc07"
   },
   "outputs": [
    {
     "name": "stdout",
     "output_type": "stream",
     "text": [
      "Epoch 1/3\n",
      "462/462 [==============================] - ETA: 0s - loss: 0.3121 - accuracy: 0.9467\n",
      "Epoch 00001: val_loss improved from 0.30081 to 0.24151, saving model to model.h5\n",
      "462/462 [==============================] - 131s 284ms/step - loss: 0.3121 - accuracy: 0.9467 - val_loss: 0.2415 - val_accuracy: 0.9661\n",
      "Epoch 2/3\n",
      "462/462 [==============================] - ETA: 0s - loss: 0.2722 - accuracy: 0.9549\n",
      "Epoch 00002: val_loss improved from 0.24151 to 0.23421, saving model to model.h5\n",
      "462/462 [==============================] - 131s 284ms/step - loss: 0.2722 - accuracy: 0.9549 - val_loss: 0.2342 - val_accuracy: 0.9663\n",
      "Epoch 3/3\n",
      "462/462 [==============================] - ETA: 0s - loss: 0.2456 - accuracy: 0.9592\n",
      "Epoch 00003: val_loss improved from 0.23421 to 0.22147, saving model to model.h5\n",
      "462/462 [==============================] - 131s 284ms/step - loss: 0.2456 - accuracy: 0.9592 - val_loss: 0.2215 - val_accuracy: 0.9679\n"
     ]
    }
   ],
   "source": [
    "new_model = tf.keras.models.load_model(filepath)\n",
    "K.set_value(new_model.optimizer.learning_rate, 0.0001)\n",
    "\n",
    "history = new_model.fit(train_generator,\n",
    "                    epochs=3,\n",
    "                    steps_per_epoch = train_generator.samples // batch_size,\n",
    "                    validation_data = validation_generator,\n",
    "                    validation_steps = validation_generator.samples // batch_size, callbacks=callbacks_list)"
   ]
  },
  {
   "cell_type": "code",
   "execution_count": null,
   "metadata": {
    "colab": {
     "base_uri": "https://localhost:8080/",
     "height": 36
    },
    "colab_type": "code",
    "id": "IlBu6Qan0hkz",
    "outputId": "f1b42495-a407-4ec4-fb70-ff9a336eddc2"
   },
   "outputs": [
    {
     "name": "stdout",
     "output_type": "stream",
     "text": [
      "<tf.Variable 'learning_rate:0' shape=() dtype=float32, numpy=1e-04>\n"
     ]
    }
   ],
   "source": [
    "new_model2 = tf.keras.models.load_model(filepath)\n",
    "print(new_model2.optimizer.learning_rate)"
   ]
  },
  {
   "cell_type": "code",
   "execution_count": null,
   "metadata": {
    "colab": {
     "base_uri": "https://localhost:8080/",
     "height": 36
    },
    "colab_type": "code",
    "id": "fkRd561b0wFT",
    "outputId": "4a8f6bcb-157d-4252-ff52-4fa85543afe5"
   },
   "outputs": [
    {
     "name": "stdout",
     "output_type": "stream",
     "text": [
      "<tf.Variable 'learning_rate:0' shape=() dtype=float32, numpy=4e-05>\n"
     ]
    }
   ],
   "source": [
    "from keras import backend as K\n",
    "K.set_value(new_model2.optimizer.learning_rate, 0.00004)\n",
    "print(new_model2.optimizer.learning_rate)"
   ]
  },
  {
   "cell_type": "code",
   "execution_count": null,
   "metadata": {
    "colab": {
     "base_uri": "https://localhost:8080/",
     "height": 240
    },
    "colab_type": "code",
    "id": "A42PEMAcvCgL",
    "outputId": "b0ebe69e-c2d8-42f3-baef-9d8d95817026"
   },
   "outputs": [
    {
     "name": "stdout",
     "output_type": "stream",
     "text": [
      "Epoch 1/3\n",
      "462/462 [==============================] - ETA: 0s - loss: 0.2196 - accuracy: 0.9651\n",
      "Epoch 00001: val_loss improved from 0.22147 to 0.22001, saving model to model.h5\n",
      "462/462 [==============================] - 131s 284ms/step - loss: 0.2196 - accuracy: 0.9651 - val_loss: 0.2200 - val_accuracy: 0.9679\n",
      "Epoch 2/3\n",
      "462/462 [==============================] - ETA: 0s - loss: 0.2105 - accuracy: 0.9668\n",
      "Epoch 00002: val_loss improved from 0.22001 to 0.21911, saving model to model.h5\n",
      "462/462 [==============================] - 131s 284ms/step - loss: 0.2105 - accuracy: 0.9668 - val_loss: 0.2191 - val_accuracy: 0.9677\n",
      "Epoch 3/3\n",
      "462/462 [==============================] - ETA: 0s - loss: 0.2016 - accuracy: 0.9687\n",
      "Epoch 00003: val_loss improved from 0.21911 to 0.21612, saving model to model.h5\n",
      "462/462 [==============================] - 131s 284ms/step - loss: 0.2016 - accuracy: 0.9687 - val_loss: 0.2161 - val_accuracy: 0.9680\n"
     ]
    }
   ],
   "source": [
    "history = new_model2.fit(train_generator,\n",
    "                    epochs=3,\n",
    "                    steps_per_epoch = train_generator.samples // batch_size,\n",
    "                    validation_data = validation_generator,\n",
    "                    validation_steps = validation_generator.samples // batch_size, callbacks=callbacks_list)"
   ]
  },
  {
   "cell_type": "code",
   "execution_count": null,
   "metadata": {
    "colab": {
     "base_uri": "https://localhost:8080/",
     "height": 36
    },
    "colab_type": "code",
    "id": "vXGoZuVVu2Yq",
    "outputId": "4ad2c2f2-414b-4e49-9dbe-041e05c02d48"
   },
   "outputs": [
    {
     "name": "stdout",
     "output_type": "stream",
     "text": [
      "<tf.Variable 'learning_rate:0' shape=() dtype=float32, numpy=4e-05>\n"
     ]
    }
   ],
   "source": [
    "new_model3 = tf.keras.models.load_model(filepath)\n",
    "print(new_model3.optimizer.learning_rate)"
   ]
  },
  {
   "cell_type": "code",
   "execution_count": 57,
   "metadata": {
    "colab": {
     "base_uri": "https://localhost:8080/",
     "height": 54
    },
    "colab_type": "code",
    "id": "55ORZri87-4A",
    "outputId": "1ee5466b-5a6b-4528-8102-479496d117c5"
   },
   "outputs": [
    {
     "name": "stdout",
     "output_type": "stream",
     "text": [
      "adc.json\t\t   AKHCRNetV2.png  model.h5\n",
      "akhcrnetv1dataprivate.zip  Images\t   sample_data\n"
     ]
    }
   ],
   "source": [
    "!ls"
   ]
  },
  {
   "cell_type": "code",
   "execution_count": null,
   "metadata": {
    "colab": {},
    "colab_type": "code",
    "id": "Uj5XAblxme2y"
   },
   "outputs": [],
   "source": [
    "from google.colab import files\n",
    "files.download('AKHCRNetV2.png')"
   ]
  }
 ],
 "metadata": {
  "accelerator": "GPU",
  "colab": {
   "collapsed_sections": [],
   "name": "AKHCRNet Updated v1.ipynb",
   "provenance": []
  },
  "kernelspec": {
   "display_name": "Python 3 (ipykernel)",
   "language": "python",
   "name": "python3"
  },
  "language_info": {
   "codemirror_mode": {
    "name": "ipython",
    "version": 3
   },
   "file_extension": ".py",
   "mimetype": "text/x-python",
   "name": "python",
   "nbconvert_exporter": "python",
   "pygments_lexer": "ipython3",
   "version": "3.9.13"
  }
 },
 "nbformat": 4,
 "nbformat_minor": 1
}
